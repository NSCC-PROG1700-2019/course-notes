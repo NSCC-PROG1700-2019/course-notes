{
 "cells": [
  {
   "cell_type": "code",
   "execution_count": 1,
   "metadata": {},
   "outputs": [
    {
     "name": "stdout",
     "output_type": "stream",
     "text": [
      "I made it here!\n"
     ]
    }
   ],
   "source": [
    "if True:\n",
    "    print(\"I made it here!\")"
   ]
  },
  {
   "cell_type": "code",
   "execution_count": 2,
   "metadata": {},
   "outputs": [],
   "source": [
    "if False:\n",
    "    print(\"I didn't make it...\")"
   ]
  },
  {
   "cell_type": "code",
   "execution_count": 3,
   "metadata": {},
   "outputs": [
    {
     "name": "stdout",
     "output_type": "stream",
     "text": [
      "3 > 2!\n"
     ]
    }
   ],
   "source": [
    "if 3 > 2:\n",
    "    print(\"3 > 2!\")"
   ]
  },
  {
   "cell_type": "code",
   "execution_count": 4,
   "metadata": {},
   "outputs": [
    {
     "name": "stdout",
     "output_type": "stream",
     "text": [
      "2 <= 5!\n"
     ]
    }
   ],
   "source": [
    "if 2 <= 5:\n",
    "    print(\"2 <= 5!\")"
   ]
  },
  {
   "cell_type": "code",
   "execution_count": 5,
   "metadata": {},
   "outputs": [
    {
     "name": "stdout",
     "output_type": "stream",
     "text": [
      "5!\n"
     ]
    }
   ],
   "source": [
    "if 5 == 5:\n",
    "    print(\"5!\")"
   ]
  },
  {
   "cell_type": "code",
   "execution_count": 6,
   "metadata": {},
   "outputs": [
    {
     "name": "stdout",
     "output_type": "stream",
     "text": [
      "not the same..\n"
     ]
    }
   ],
   "source": [
    "if 3 != 5:\n",
    "    print(\"not the same..\")"
   ]
  },
  {
   "cell_type": "code",
   "execution_count": 7,
   "metadata": {},
   "outputs": [
    {
     "name": "stdout",
     "output_type": "stream",
     "text": [
      "less than 10!\n"
     ]
    }
   ],
   "source": [
    "num = 5\n",
    "if num < 10:\n",
    "    print(\"less than 10!\")"
   ]
  },
  {
   "cell_type": "code",
   "execution_count": 8,
   "metadata": {},
   "outputs": [
    {
     "name": "stdout",
     "output_type": "stream",
     "text": [
      "first is not last.\n"
     ]
    }
   ],
   "source": [
    "word1 = \"first\"\n",
    "word2 = \"last\"\n",
    "if word1 != word2:\n",
    "    print(\"first is not last.\")"
   ]
  },
  {
   "cell_type": "code",
   "execution_count": 9,
   "metadata": {},
   "outputs": [
    {
     "name": "stdout",
     "output_type": "stream",
     "text": [
      "more!\n"
     ]
    }
   ],
   "source": [
    "if (num + 1) > num:\n",
    "    print(\"more!\")"
   ]
  },
  {
   "cell_type": "code",
   "execution_count": 10,
   "metadata": {},
   "outputs": [
    {
     "name": "stdout",
     "output_type": "stream",
     "text": [
      "dead....\n"
     ]
    }
   ],
   "source": [
    "hit_points = 1\n",
    "hit_points -= 1 # got hit!\n",
    "if hit_points == 0:\n",
    "    print(\"dead....\")"
   ]
  },
  {
   "cell_type": "code",
   "execution_count": 11,
   "metadata": {},
   "outputs": [
    {
     "name": "stdout",
     "output_type": "stream",
     "text": [
      "????\n"
     ]
    }
   ],
   "source": [
    "word1 = \"apple\"\n",
    "word2 = \"apple sauce\"\n",
    "if word1 < word2:\n",
    "    print(\"????\")"
   ]
  },
  {
   "cell_type": "code",
   "execution_count": 12,
   "metadata": {},
   "outputs": [
    {
     "name": "stdout",
     "output_type": "stream",
     "text": [
      "still working.....\n"
     ]
    }
   ],
   "source": [
    "salary = 5_432\n",
    "if salary > 1_000_000:\n",
    "    print(\"vacation here I come!\")\n",
    "else:\n",
    "    print(\"still working.....\")"
   ]
  },
  {
   "cell_type": "code",
   "execution_count": 13,
   "metadata": {},
   "outputs": [
    {
     "name": "stdout",
     "output_type": "stream",
     "text": [
      "Enter your password: sdfsdf\n",
      "THIEF!!!!!\n"
     ]
    }
   ],
   "source": [
    "password = input(\"Enter your password: \")\n",
    "if password == \"secret!\":\n",
    "    print(\"You're IN!\")\n",
    "else:\n",
    "    print(\"THIEF!!!!!\")"
   ]
  },
  {
   "cell_type": "code",
   "execution_count": 14,
   "metadata": {},
   "outputs": [
    {
     "name": "stdout",
     "output_type": "stream",
     "text": [
      "Registered Version!\n"
     ]
    }
   ],
   "source": [
    "product_key = \"ABCF-12345\"\n",
    "if product_key < \"ABCE\":\n",
    "    print(\"Trial Version!\")\n",
    "elif product_key < \"ABCF\":\n",
    "    if product_key < \"ABCE-5\":\n",
    "        print(\"Community Version 1!\")\n",
    "    else:\n",
    "        print(\"Community Version 2!\")\n",
    "else:\n",
    "    print(\"Registered Version!\")"
   ]
  },
  {
   "cell_type": "code",
   "execution_count": 16,
   "metadata": {},
   "outputs": [
    {
     "name": "stdout",
     "output_type": "stream",
     "text": [
      "Enter a number: 35\n",
      "Unsupported Number.\n"
     ]
    }
   ],
   "source": [
    "number = int(input(\"Enter a number: \"))\n",
    "if number == 1:\n",
    "    print(\"I\")\n",
    "elif number == 2:\n",
    "    print(\"II\")\n",
    "elif number == 3:\n",
    "    print(\"III\")\n",
    "elif number == 4:\n",
    "    print(\"IV\")\n",
    "elif number == 5:\n",
    "    print(\"V\")\n",
    "elif number == 6:\n",
    "    print(\"VI\")\n",
    "elif number == 7:\n",
    "    print(\"VII\")\n",
    "elif number == 8:\n",
    "    print(\"VIII\")\n",
    "elif number == 9:\n",
    "    print(\"IX\")\n",
    "elif number == 10:\n",
    "    print(\"X\")\n",
    "else:\n",
    "    print(\"Unsupported Number.\")"
   ]
  },
  {
   "cell_type": "code",
   "execution_count": 19,
   "metadata": {},
   "outputs": [
    {
     "name": "stdout",
     "output_type": "stream",
     "text": [
      "Enter first colour: red\n",
      "got to step 1\n",
      "Enter second colour: blue\n",
      "got to step 2\n",
      "purple\n",
      "got to step 3\n"
     ]
    }
   ],
   "source": [
    "# colour mixer\n",
    "colour1 = input(\"Enter first colour: \")\n",
    "if colour1 != \"red\" and colour1 != \"blue\" and colour1 != \"yellow\":\n",
    "    print(\"Invalid colour.\")\n",
    "print(\"got to step 1\")\n",
    "colour2 = input(\"Enter second colour: \")\n",
    "if colour2 != \"red\" and colour2 != \"blue\" and colour2 != \"yellow\":\n",
    "    print(\"Invalid colour.\")\n",
    "print(\"got to step 2\")\n",
    "if (colour1 == \"red\" and colour2 == \"yellow\") or \\\n",
    "   (colour1 == \"yellow\" and colour2 == \"red\"):\n",
    "    print(\"orange\")\n",
    "elif (colour1 == \"red\" and colour2 == \"blue\") or \\\n",
    "    (colour1 == \"blue\" and colour2 == \"red\"):\n",
    "    print(\"purple\")\n",
    "elif (colour1 == \"yellow\" and colour2 == \"blue\") or \\\n",
    "    (colour1 == \"blue\" and colour2 == \"yellow\"):\n",
    "    print(\"green\")\n",
    "print(\"got to step 3\")"
   ]
  },
  {
   "cell_type": "code",
   "execution_count": null,
   "metadata": {},
   "outputs": [],
   "source": [
    "\n",
    "\n",
    "\n",
    "\n",
    "\n",
    "\n",
    "\n",
    "\n",
    "\n",
    "\n",
    "\n",
    "\n",
    "\n",
    "\n",
    "\n",
    "\n",
    "\n",
    "\n",
    "\n",
    "\n",
    "\n",
    "\n"
   ]
  }
 ],
 "metadata": {
  "kernelspec": {
   "display_name": "Python 3",
   "language": "python",
   "name": "python3"
  },
  "language_info": {
   "codemirror_mode": {
    "name": "ipython",
    "version": 3
   },
   "file_extension": ".py",
   "mimetype": "text/x-python",
   "name": "python",
   "nbconvert_exporter": "python",
   "pygments_lexer": "ipython3",
   "version": "3.6.8"
  }
 },
 "nbformat": 4,
 "nbformat_minor": 2
}
