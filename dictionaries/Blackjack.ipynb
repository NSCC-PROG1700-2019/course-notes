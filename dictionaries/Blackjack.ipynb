{
 "cells": [
  {
   "cell_type": "code",
   "execution_count": 1,
   "metadata": {},
   "outputs": [],
   "source": [
    "cards = {\n",
    "    'Two of Clubs': 2,\n",
    "    'Three of Clubs': 3,\n",
    "    'Four of Clubs': 4,\n",
    "    'Five of Clubs': 5,\n",
    "    'Six of Clubs': 6,\n",
    "    'Seven of Clubs': 7,\n",
    "    'Eight of Clubs': 8,\n",
    "    'Nine of Clubs': 8,\n",
    "    'Ten of Clubs': 10,\n",
    "    'Jack of Clubs': 10,\n",
    "    'Queen of Clubs': 10,\n",
    "    'King of Clubs': 10,\n",
    "    'Ace of Clubs': 11,\n",
    "\n",
    "    'Two of Spades': 2,\n",
    "    'Three of Spades': 3,\n",
    "    'Four of Spades': 4,\n",
    "    'Five of Spades': 5,\n",
    "    'Six of Spades': 6,\n",
    "    'Seven of Spades': 7,\n",
    "    'Eight of Spades': 8,\n",
    "    'Nine of Spades': 8,\n",
    "    'Ten of Spades': 10,\n",
    "    'Jack of Spades': 10,\n",
    "    'Queen of Spades': 10,\n",
    "    'King of Spades': 10,\n",
    "    'Ace of Spades': 11,\n",
    "\n",
    "    'Two of Hearts': 2,\n",
    "    'Three of Hearts': 3,\n",
    "    'Four of Hearts': 4,\n",
    "    'Five of Hearts': 5,\n",
    "    'Six of Hearts': 6,\n",
    "    'Seven of Hearts': 7,\n",
    "    'Eight of Hearts': 8,\n",
    "    'Nine of Hearts': 8,\n",
    "    'Ten of Hearts': 10,\n",
    "    'Jack of Hearts': 10,\n",
    "    'Queen of Hearts': 10,\n",
    "    'King of Hearts': 10,\n",
    "    'Ace of Hearts': 11,\n",
    "\n",
    "    'Two of Diamonds': 2,\n",
    "    'Three of Diamonds': 3,\n",
    "    'Four of Diamonds': 4,\n",
    "    'Five of Diamonds': 5,\n",
    "    'Six of Diamonds': 6,\n",
    "    'Seven of Diamonds': 7,\n",
    "    'Eight of Diamonds': 8,\n",
    "    'Nine of Diamonds': 8,\n",
    "    'Ten of Diamonds': 10,\n",
    "    'Jack of Diamonds': 10,\n",
    "    'Queen of Diamonds': 10,\n",
    "    'King of Diamonds': 10,\n",
    "    'Ace of Diamonds': 11\n",
    "}"
   ]
  },
  {
   "cell_type": "code",
   "execution_count": 12,
   "metadata": {},
   "outputs": [
    {
     "name": "stdout",
     "output_type": "stream",
     "text": [
      "('Five of Diamonds', 5)\n"
     ]
    }
   ],
   "source": [
    "print(cards.popitem())"
   ]
  },
  {
   "cell_type": "code",
   "execution_count": null,
   "metadata": {},
   "outputs": [
    {
     "name": "stdout",
     "output_type": "stream",
     "text": [
      "hand_total = 11\n",
      "Would you like another card (Y/N)? Y\n",
      "Your hand: 15\n",
      "Would you like another card (Y/N)? Y\n",
      "Your hand: 18\n"
     ]
    }
   ],
   "source": [
    "hand_total = 0\n",
    "\n",
    "# pick two cards\n",
    "card_one = cards.popitem()\n",
    "card_two = cards.popitem()\n",
    "\n",
    "hand_total += card_one[1] + card_two[1]\n",
    "print(f\"hand_total = {hand_total}\")\n",
    "\n",
    "hand_over = False\n",
    "while not hand_over:\n",
    "    if hand_total == 21:\n",
    "        print(\"Blackjack!\")\n",
    "        hand_over = True\n",
    "    else:\n",
    "        another_card = input(\"Would you like another card (Y/N)? \")\n",
    "        if another_card == \"Y\":\n",
    "            hand_total += cards.popitem()[1]\n",
    "        else:\n",
    "            hand_over = True\n",
    "        print(f\"Your hand: {hand_total}\")\n"
   ]
  },
  {
   "cell_type": "code",
   "execution_count": null,
   "metadata": {},
   "outputs": [],
   "source": []
  }
 ],
 "metadata": {
  "kernelspec": {
   "display_name": "Python 3",
   "language": "python",
   "name": "python3"
  },
  "language_info": {
   "codemirror_mode": {
    "name": "ipython",
    "version": 3
   },
   "file_extension": ".py",
   "mimetype": "text/x-python",
   "name": "python",
   "nbconvert_exporter": "python",
   "pygments_lexer": "ipython3",
   "version": "3.6.8"
  }
 },
 "nbformat": 4,
 "nbformat_minor": 2
}
