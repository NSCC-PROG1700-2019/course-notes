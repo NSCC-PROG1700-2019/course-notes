{
 "cells": [
  {
   "cell_type": "code",
   "execution_count": 3,
   "metadata": {},
   "outputs": [
    {
     "name": "stdout",
     "output_type": "stream",
     "text": [
      "0\n",
      "1\n",
      "2\n",
      "3\n",
      "4\n",
      "5\n"
     ]
    }
   ],
   "source": [
    "num = 0\n",
    "while num < 10 and not num > 5:\n",
    "    print(num)\n",
    "    num += 1 # this is an accumulator value"
   ]
  },
  {
   "cell_type": "code",
   "execution_count": null,
   "metadata": {},
   "outputs": [],
   "source": [
    "count = 0\n",
    "sum = 0\n",
    "value = 0 # what the user enters\n",
    "while value != \"Y\":\n",
    "    value = input(\"Enter a value ('Y' to end): \")\n",
    "    if value == \"Y\":\n",
    "        # stop looping\n",
    "    sum += int(value)\n",
    "    count += 1\n",
    "avg = sum / count\n",
    "print(f\"The average is {avg}.\")"
   ]
  },
  {
   "cell_type": "code",
   "execution_count": 4,
   "metadata": {},
   "outputs": [
    {
     "name": "stdout",
     "output_type": "stream",
     "text": [
      "Enter a value ('Y' to end): 4\n",
      "Enter a value ('Y' to end): 6\n",
      "Enter a value ('Y' to end): 8\n",
      "Enter a value ('Y' to end): Y\n",
      "The average is 6.0.\n"
     ]
    }
   ],
   "source": [
    "count = 0\n",
    "sum = 0\n",
    "value = 0 # what the user enters\n",
    "while True:\n",
    "    value = input(\"Enter a value ('Y' to end): \")\n",
    "    if value == \"Y\":\n",
    "        # stop looping\n",
    "        break\n",
    "    sum += int(value)\n",
    "    count += 1\n",
    "avg = sum / count\n",
    "print(f\"The average is {avg}.\")"
   ]
  },
  {
   "cell_type": "code",
   "execution_count": 6,
   "metadata": {},
   "outputs": [
    {
     "name": "stdout",
     "output_type": "stream",
     "text": [
      "Enter a value ('Y' to end): 10\n",
      "Enter a value ('Y' to end): Y\n",
      "The average is 10.0.\n"
     ]
    }
   ],
   "source": [
    "count = 0\n",
    "sum = 0\n",
    "value = 0 # what the user enters\n",
    "while value != \"Y\":\n",
    "    sum += int(value)\n",
    "    count += 1\n",
    "    value = input(\"Enter a value ('Y' to end): \")\n",
    "avg = sum / (count - 1) # count will be one more than it should\n",
    "print(f\"The average is {avg}.\")"
   ]
  },
  {
   "cell_type": "code",
   "execution_count": 13,
   "metadata": {},
   "outputs": [
    {
     "name": "stdout",
     "output_type": "stream",
     "text": [
      "10\n",
      "9\n",
      "8\n",
      "7\n",
      "6\n",
      "5\n",
      "4\n",
      "3\n",
      "2\n",
      "1\n",
      "final num = 1\n"
     ]
    }
   ],
   "source": [
    "for num in range(10, 0, -1):\n",
    "    print(num)\n",
    "print(f\"final num = {num}\")"
   ]
  },
  {
   "cell_type": "code",
   "execution_count": 14,
   "metadata": {},
   "outputs": [
    {
     "name": "stdout",
     "output_type": "stream",
     "text": [
      "i=0, j=1, k=2\n",
      "i=0, j=1, k=3\n",
      "i=0, j=2, k=2\n",
      "i=0, j=2, k=3\n",
      "i=0, j=3, k=2\n",
      "i=0, j=3, k=3\n",
      "i=0, j=4, k=2\n",
      "i=0, j=4, k=3\n",
      "i=1, j=1, k=2\n",
      "i=1, j=1, k=3\n",
      "i=1, j=2, k=2\n",
      "i=1, j=2, k=3\n",
      "i=1, j=3, k=2\n",
      "i=1, j=3, k=3\n",
      "i=1, j=4, k=2\n",
      "i=1, j=4, k=3\n",
      "i=2, j=1, k=2\n",
      "i=2, j=1, k=3\n",
      "i=2, j=2, k=2\n",
      "i=2, j=2, k=3\n",
      "i=2, j=3, k=2\n",
      "i=2, j=3, k=3\n",
      "i=2, j=4, k=2\n",
      "i=2, j=4, k=3\n",
      "i=3, j=1, k=2\n",
      "i=3, j=1, k=3\n",
      "i=3, j=2, k=2\n",
      "i=3, j=2, k=3\n",
      "i=3, j=3, k=2\n",
      "i=3, j=3, k=3\n",
      "i=3, j=4, k=2\n",
      "i=3, j=4, k=3\n",
      "i=4, j=1, k=2\n",
      "i=4, j=1, k=3\n",
      "i=4, j=2, k=2\n",
      "i=4, j=2, k=3\n",
      "i=4, j=3, k=2\n",
      "i=4, j=3, k=3\n",
      "i=4, j=4, k=2\n",
      "i=4, j=4, k=3\n",
      "i=5, j=1, k=2\n",
      "i=5, j=1, k=3\n",
      "i=5, j=2, k=2\n",
      "i=5, j=2, k=3\n",
      "i=5, j=3, k=2\n",
      "i=5, j=3, k=3\n",
      "i=5, j=4, k=2\n",
      "i=5, j=4, k=3\n",
      "i=6, j=1, k=2\n",
      "i=6, j=1, k=3\n",
      "i=6, j=2, k=2\n",
      "i=6, j=2, k=3\n",
      "i=6, j=3, k=2\n",
      "i=6, j=3, k=3\n",
      "i=6, j=4, k=2\n",
      "i=6, j=4, k=3\n",
      "i=7, j=1, k=2\n",
      "i=7, j=1, k=3\n",
      "i=7, j=2, k=2\n",
      "i=7, j=2, k=3\n",
      "i=7, j=3, k=2\n",
      "i=7, j=3, k=3\n",
      "i=7, j=4, k=2\n",
      "i=7, j=4, k=3\n",
      "i=8, j=1, k=2\n",
      "i=8, j=1, k=3\n",
      "i=8, j=2, k=2\n",
      "i=8, j=2, k=3\n",
      "i=8, j=3, k=2\n",
      "i=8, j=3, k=3\n",
      "i=8, j=4, k=2\n",
      "i=8, j=4, k=3\n",
      "i=9, j=1, k=2\n",
      "i=9, j=1, k=3\n",
      "i=9, j=2, k=2\n",
      "i=9, j=2, k=3\n",
      "i=9, j=3, k=2\n",
      "i=9, j=3, k=3\n",
      "i=9, j=4, k=2\n",
      "i=9, j=4, k=3\n"
     ]
    }
   ],
   "source": [
    "for i in range(0, 10):\n",
    "    for j in range(1, 5):\n",
    "        for k in range(2, 4):\n",
    "            print(f\"i={i}, j={j}, k={k}\")"
   ]
  },
  {
   "cell_type": "code",
   "execution_count": null,
   "metadata": {},
   "outputs": [],
   "source": []
  }
 ],
 "metadata": {
  "kernelspec": {
   "display_name": "Python 3",
   "language": "python",
   "name": "python3"
  },
  "language_info": {
   "codemirror_mode": {
    "name": "ipython",
    "version": 3
   },
   "file_extension": ".py",
   "mimetype": "text/x-python",
   "name": "python",
   "nbconvert_exporter": "python",
   "pygments_lexer": "ipython3",
   "version": "3.6.8"
  }
 },
 "nbformat": 4,
 "nbformat_minor": 2
}
